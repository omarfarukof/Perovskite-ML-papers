{
 "cells": [
  {
   "cell_type": "markdown",
   "id": "79734a0f",
   "metadata": {},
   "source": [
    "# DD-Hybrid Sampler: Quick Demo"
   ]
  },
  {
   "cell_type": "code",
   "execution_count": 2,
   "id": "944fd7cf",
   "metadata": {},
   "outputs": [
    {
     "name": "stdout",
     "output_type": "stream",
     "text": [
      "IR before: 8.49\n",
      "IR after : 1.50  (Δn = 737)\n"
     ]
    }
   ],
   "source": [
    "\n",
    "from dd_hybrid_sampler import DDHybridSampler\n",
    "from sklearn.datasets import make_classification\n",
    "from sklearn.model_selection import train_test_split\n",
    "from sklearn.preprocessing import StandardScaler\n",
    "from sklearn.linear_model import LogisticRegression\n",
    "from sklearn.metrics import classification_report, balanced_accuracy_score\n",
    "import numpy as np\n",
    "\n",
    "# Generate an imbalanced dataset\n",
    "X, y = make_classification(n_samples=1500, n_features=20, n_informative=8,\n",
    "                            n_redundant=4, n_clusters_per_class=1,\n",
    "                            weights=[0.90, 0.10], \n",
    "                            # n_classes=4,\n",
    "                            # weights=[0.6, 0.25, 0.1, 0.05],\n",
    "                            flip_y=0.01, random_state=42)\n",
    "\n",
    "def ir_of(y):\n",
    "    classes, counts = np.unique(y, return_counts=True)\n",
    "    maj = classes[np.argmax(counts)]\n",
    "    mino = classes[np.argmin(counts)]\n",
    "    return counts[np.argmax(counts)] / counts[np.argmin(counts)]\n",
    "\n",
    "print(f\"IR before: {ir_of(y):.2f}\")\n",
    "sampler = DDHybridSampler(target_ir=1.5, k=5, random_state=42)\n",
    "Xr, yr = sampler.fit_resample(X, y)\n",
    "print(f\"IR after : {ir_of(yr):.2f}  (Δn = {len(yr)-len(y)})\")\n"
   ]
  },
  {
   "cell_type": "markdown",
   "id": "6696e173",
   "metadata": {},
   "source": [
    "## Train/Test Performance (Before vs After Resampling)"
   ]
  },
  {
   "cell_type": "code",
   "execution_count": 3,
   "id": "647eeb26",
   "metadata": {},
   "outputs": [
    {
     "name": "stdout",
     "output_type": "stream",
     "text": [
      "Original data:\n",
      "[Original] Balanced Acc: 0.859\n",
      "              precision    recall  f1-score   support\n",
      "\n",
      "           0      0.969     0.995     0.982       403\n",
      "           1      0.944     0.723     0.819        47\n",
      "\n",
      "    accuracy                          0.967       450\n",
      "   macro avg      0.957     0.859     0.900       450\n",
      "weighted avg      0.966     0.967     0.965       450\n",
      "\n",
      "\n",
      "Resampled data:\n",
      "[DD-Hybrid] Balanced Acc: 0.926\n",
      "              precision    recall  f1-score   support\n",
      "\n",
      "           0      0.936     0.948     0.942       403\n",
      "           1      0.920     0.903     0.912       269\n",
      "\n",
      "    accuracy                          0.930       672\n",
      "   macro avg      0.928     0.926     0.927       672\n",
      "weighted avg      0.930     0.930     0.930       672\n",
      "\n"
     ]
    }
   ],
   "source": [
    "\n",
    "# Train/test split (same split used for both experiments for fairness)\n",
    "X_train, X_test, y_train, y_test = train_test_split(X, y, test_size=0.3, stratify=y, random_state=0)\n",
    "Xr_train, Xr_test, yr_train, yr_test = train_test_split(Xr, yr, test_size=0.3, stratify=yr, random_state=0)\n",
    "\n",
    "scaler = StandardScaler()\n",
    "clf = LogisticRegression(max_iter=200, random_state=0)\n",
    "\n",
    "def fit_eval(Xtr, ytr, Xte, yte, label):\n",
    "    Xtr_s = scaler.fit_transform(Xtr)\n",
    "    Xte_s = scaler.transform(Xte)\n",
    "    clf.fit(Xtr_s, ytr)\n",
    "    ypred = clf.predict(Xte_s)\n",
    "    bal_acc = balanced_accuracy_score(yte, ypred)\n",
    "    print(f\"[{label}] Balanced Acc: {bal_acc:.3f}\")\n",
    "    print(classification_report(yte, ypred, digits=3))\n",
    "\n",
    "print(\"Original data:\")\n",
    "fit_eval(X_train, y_train, X_test, y_test, \"Original\")\n",
    "\n",
    "print(\"\\nResampled data:\")\n",
    "fit_eval(Xr_train, yr_train, Xr_test, yr_test, \"DD-Hybrid\")\n"
   ]
  }
 ],
 "metadata": {
  "kernelspec": {
   "display_name": ".venv",
   "language": "python",
   "name": "python3"
  },
  "language_info": {
   "codemirror_mode": {
    "name": "ipython",
    "version": 3
   },
   "file_extension": ".py",
   "mimetype": "text/x-python",
   "name": "python",
   "nbconvert_exporter": "python",
   "pygments_lexer": "ipython3",
   "version": "3.12.4"
  }
 },
 "nbformat": 4,
 "nbformat_minor": 5
}
