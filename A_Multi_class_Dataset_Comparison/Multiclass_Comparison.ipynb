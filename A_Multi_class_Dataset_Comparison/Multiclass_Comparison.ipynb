{
 "cells": [
  {
   "cell_type": "markdown",
   "id": "8515244a",
   "metadata": {},
   "source": [
    "# Machine Learning Pipeline for Multi-class Classification  \n",
    "**Purpose**: Benchmark several re-sampling strategies (SMOTE, up/down-sampling) on a list of open datasets with a fully-robust, Stratified-K-Fold CV workflow.  "
   ]
  },
  {
   "cell_type": "markdown",
   "id": "a121c6f6",
   "metadata": {},
   "source": [
    "## Step-1 – Import libraries"
   ]
  },
  {
   "cell_type": "code",
   "execution_count": 1,
   "id": "49b21155",
   "metadata": {},
   "outputs": [],
   "source": [
    "# Core\n",
    "import os, pathlib, warnings, itertools, joblib\n",
    "warnings.filterwarnings(\"ignore\")\n",
    "\n",
    "# Scientific\n",
    "import numpy as np\n",
    "import pandas as pd\n",
    "import matplotlib.pyplot as plt\n",
    "import seaborn as sns\n",
    "\n",
    "# Sklearn utilities\n",
    "from sklearn.model_selection import StratifiedKFold\n",
    "from sklearn.preprocessing import LabelEncoder\n",
    "from sklearn.impute import SimpleImputer\n",
    "from sklearn.pipeline import Pipeline\n",
    "from sklearn.metrics import (accuracy_score, precision_score, recall_score,\n",
    "                             f1_score, classification_report, confusion_matrix)\n",
    "\n",
    "# Sampling\n",
    "from imblearn.over_sampling import SMOTE, RandomOverSampler\n",
    "from imblearn.under_sampling import RandomUnderSampler\n",
    "from imblearn.pipeline import Pipeline as ImbPipeline\n",
    "\n",
    "# Classifiers (pick any – here we use RandomForest as a strong default)\n",
    "from sklearn.ensemble import RandomForestClassifier"
   ]
  },
  {
   "cell_type": "markdown",
   "id": "d8bb551c",
   "metadata": {},
   "source": [
    "## Step-2 – List of datasets  \n",
    "(Each dataset must be a CSV whose last column is the multi-class target.)"
   ]
  },
  {
   "cell_type": "code",
   "execution_count": 2,
   "id": "d3321960",
   "metadata": {},
   "outputs": [
    {
     "name": "stdout",
     "output_type": "stream",
     "text": [
      "Datasets to process: ['wisconsin']\n"
     ]
    }
   ],
   "source": [
    "DATA_DIR = pathlib.Path(\"datasets\")          # folder that contains the csv files\n",
    "CSV_FILES = sorted(DATA_DIR.glob(\"*.csv\"))   # auto list\n",
    "assert CSV_FILES, f\"No CSV found in {DATA_DIR.resolve()}\"\n",
    "print(\"Datasets to process:\", [f.stem for f in CSV_FILES])"
   ]
  },
  {
   "cell_type": "markdown",
   "id": "8990fb52",
   "metadata": {},
   "source": [
    "## Helper – evaluation helper for multi-class"
   ]
  },
  {
   "cell_type": "code",
   "execution_count": 3,
   "id": "c84597c3",
   "metadata": {},
   "outputs": [],
   "source": [
    "def score_report(y_true, y_pred, average=\"macro\"):\n",
    "    \"\"\"Return dict with macro & weighted metrics + overall accuracy.\"\"\"\n",
    "    acc = accuracy_score(y_true, y_pred)\n",
    "    pre = precision_score(y_true, y_pred, average=average, zero_division=0)\n",
    "    rec = recall_score(y_true, y_pred, average=average, zero_division=0)\n",
    "    f1 = f1_score(y_true, y_pred, average=average, zero_division=0)\n",
    "    return dict(accuracy=acc, precision=pre, recall=rec, f1=f1)\n",
    "\n",
    "def weighted_scores(y_true, y_pred):\n",
    "    return score_report(y_true, y_pred, average=\"weighted\")"
   ]
  },
  {
   "cell_type": "markdown",
   "id": "a82d5d15",
   "metadata": {},
   "source": [
    "## Step-3 … Step-8 – Master routine"
   ]
  },
  {
   "cell_type": "code",
   "execution_count": 4,
   "id": "534986b2",
   "metadata": {},
   "outputs": [
    {
     "name": "stdout",
     "output_type": "stream",
     "text": [
      "\n",
      "===== Dataset : wisconsin =====\n",
      "None         | macro-F1 = 0.970 | acc = 0.972\n",
      "SMOTE        | macro-F1 = 0.970 | acc = 0.972\n",
      "UpSample     | macro-F1 = 0.968 | acc = 0.971\n",
      "DownSample   | macro-F1 = 0.973 | acc = 0.975\n"
     ]
    }
   ],
   "source": [
    "SAMPLERS = {\n",
    "    \"None\": None,\n",
    "    \"SMOTE\": SMOTE(random_state=42),\n",
    "    \"UpSample\": RandomOverSampler(random_state=42),\n",
    "    \"DownSample\": RandomUnderSampler(random_state=42)\n",
    "}\n",
    "\n",
    "CV = StratifiedKFold(n_splits=5, shuffle=True, random_state=42)\n",
    "CLF = RandomForestClassifier(n_estimators=300, n_jobs=-1, random_state=42)\n",
    "\n",
    "results = []   # will collect rows\n",
    "\n",
    "for csv_path in CSV_FILES:\n",
    "    ds_name = csv_path.stem\n",
    "    print(f\"\\n===== Dataset : {ds_name} =====\")\n",
    "    \n",
    "    # Step-3: load\n",
    "    df = pd.read_csv(csv_path)\n",
    "    X = df.iloc[:, :-1].copy()\n",
    "    y = LabelEncoder().fit_transform(df.iloc[:, -1])  # Step-4\n",
    "    \n",
    "    # quick numeric check\n",
    "    cat_cols = X.select_dtypes(exclude=np.number).columns\n",
    "    if len(cat_cols):\n",
    "        X = pd.get_dummies(X, columns=cat_cols, drop_first=True)\n",
    "    \n",
    "    for sampler_name, sampler_obj in SAMPLERS.items():\n",
    "        fold_scores = []\n",
    "        \n",
    "        for fold, (tr_idx, val_idx) in enumerate(CV.split(X, y), 1):\n",
    "            X_train, X_val = X.iloc[tr_idx], X.iloc[val_idx]\n",
    "            y_train, y_val = y[tr_idx], y[val_idx]\n",
    "            \n",
    "            # Step-6 – missing-value imputation (fit on train)\n",
    "            imp = SimpleImputer(strategy=\"median\")\n",
    "            X_train_imp = imp.fit_transform(X_train)\n",
    "            X_val_imp = imp.transform(X_val)\n",
    "            \n",
    "            # Step-7 – sampling (only on training)\n",
    "            if sampler_obj:\n",
    "                X_train_imp, y_train = sampler_obj.fit_resample(X_train_imp, y_train)\n",
    "            \n",
    "            # Fit classifier\n",
    "            CLF.fit(X_train_imp, y_train)\n",
    "            y_pred = CLF.predict(X_val_imp)\n",
    "            \n",
    "            # Step-8 – metrics\n",
    "            macro = score_report(y_val, y_pred, \"macro\")\n",
    "            weighted = weighted_scores(y_val, y_pred)\n",
    "            fold_scores.append({\n",
    "                \"fold\": fold,\n",
    "                \"accuracy\": macro[\"accuracy\"],\n",
    "                \"macro_precision\": macro[\"precision\"],\n",
    "                \"macro_recall\": macro[\"recall\"],\n",
    "                \"macro_f1\": macro[\"f1\"],\n",
    "                \"weighted_precision\": weighted[\"precision\"],\n",
    "                \"weighted_recall\": weighted[\"recall\"],\n",
    "                \"weighted_f1\": weighted[\"f1\"]\n",
    "            })\n",
    "        \n",
    "        # Average across folds\n",
    "        df_fold = pd.DataFrame(fold_scores)\n",
    "        mean_row = df_fold.mean(numeric_only=True).to_dict()\n",
    "        mean_row.update({\"dataset\": ds_name, \"sampler\": sampler_name})\n",
    "        results.append(mean_row)\n",
    "        print(f\"{sampler_name:12} | macro-F1 = {mean_row['macro_f1']:.3f} | acc = {mean_row['accuracy']:.3f}\")"
   ]
  },
  {
   "cell_type": "markdown",
   "id": "424e08e9",
   "metadata": {},
   "source": [
    "## Step-9 – Compile & visualise"
   ]
  },
  {
   "cell_type": "code",
   "execution_count": 5,
   "id": "5932e018",
   "metadata": {},
   "outputs": [
    {
     "name": "stdout",
     "output_type": "stream",
     "text": [
      "\n",
      "Preview of aggregated results\n"
     ]
    },
    {
     "data": {
      "text/html": [
       "<div>\n",
       "<style scoped>\n",
       "    .dataframe tbody tr th:only-of-type {\n",
       "        vertical-align: middle;\n",
       "    }\n",
       "\n",
       "    .dataframe tbody tr th {\n",
       "        vertical-align: top;\n",
       "    }\n",
       "\n",
       "    .dataframe thead th {\n",
       "        text-align: right;\n",
       "    }\n",
       "</style>\n",
       "<table border=\"1\" class=\"dataframe\">\n",
       "  <thead>\n",
       "    <tr style=\"text-align: right;\">\n",
       "      <th></th>\n",
       "      <th>fold</th>\n",
       "      <th>accuracy</th>\n",
       "      <th>macro_precision</th>\n",
       "      <th>macro_recall</th>\n",
       "      <th>macro_f1</th>\n",
       "      <th>weighted_precision</th>\n",
       "      <th>weighted_recall</th>\n",
       "      <th>weighted_f1</th>\n",
       "      <th>dataset</th>\n",
       "      <th>sampler</th>\n",
       "    </tr>\n",
       "  </thead>\n",
       "  <tbody>\n",
       "    <tr>\n",
       "      <th>0</th>\n",
       "      <td>3.0</td>\n",
       "      <td>0.972177</td>\n",
       "      <td>0.967558</td>\n",
       "      <td>0.971832</td>\n",
       "      <td>0.969548</td>\n",
       "      <td>0.972552</td>\n",
       "      <td>0.972177</td>\n",
       "      <td>0.972241</td>\n",
       "      <td>wisconsin</td>\n",
       "      <td>None</td>\n",
       "    </tr>\n",
       "    <tr>\n",
       "      <th>1</th>\n",
       "      <td>3.0</td>\n",
       "      <td>0.972177</td>\n",
       "      <td>0.966519</td>\n",
       "      <td>0.973752</td>\n",
       "      <td>0.969687</td>\n",
       "      <td>0.973184</td>\n",
       "      <td>0.972177</td>\n",
       "      <td>0.972299</td>\n",
       "      <td>wisconsin</td>\n",
       "      <td>SMOTE</td>\n",
       "    </tr>\n",
       "    <tr>\n",
       "      <th>2</th>\n",
       "      <td>3.0</td>\n",
       "      <td>0.970717</td>\n",
       "      <td>0.966340</td>\n",
       "      <td>0.969749</td>\n",
       "      <td>0.967938</td>\n",
       "      <td>0.971018</td>\n",
       "      <td>0.970717</td>\n",
       "      <td>0.970778</td>\n",
       "      <td>wisconsin</td>\n",
       "      <td>UpSample</td>\n",
       "    </tr>\n",
       "    <tr>\n",
       "      <th>3</th>\n",
       "      <td>3.0</td>\n",
       "      <td>0.975107</td>\n",
       "      <td>0.969369</td>\n",
       "      <td>0.976959</td>\n",
       "      <td>0.972863</td>\n",
       "      <td>0.975833</td>\n",
       "      <td>0.975107</td>\n",
       "      <td>0.975215</td>\n",
       "      <td>wisconsin</td>\n",
       "      <td>DownSample</td>\n",
       "    </tr>\n",
       "  </tbody>\n",
       "</table>\n",
       "</div>"
      ],
      "text/plain": [
       "   fold  accuracy  macro_precision  macro_recall  macro_f1  \\\n",
       "0   3.0  0.972177         0.967558      0.971832  0.969548   \n",
       "1   3.0  0.972177         0.966519      0.973752  0.969687   \n",
       "2   3.0  0.970717         0.966340      0.969749  0.967938   \n",
       "3   3.0  0.975107         0.969369      0.976959  0.972863   \n",
       "\n",
       "   weighted_precision  weighted_recall  weighted_f1    dataset     sampler  \n",
       "0            0.972552         0.972177     0.972241  wisconsin        None  \n",
       "1            0.973184         0.972177     0.972299  wisconsin       SMOTE  \n",
       "2            0.971018         0.970717     0.970778  wisconsin    UpSample  \n",
       "3            0.975833         0.975107     0.975215  wisconsin  DownSample  "
      ]
     },
     "metadata": {},
     "output_type": "display_data"
    },
    {
     "data": {
      "image/png": "[encoded data removed]",
      "text/plain": [
       "<Figure size 600x400 with 2 Axes>"
      ]
     },
     "metadata": {},
     "output_type": "display_data"
    }
   ],
   "source": [
    "RESULT = pd.DataFrame(results)\n",
    "print(\"\\nPreview of aggregated results\")\n",
    "display(RESULT.head())\n",
    "\n",
    "# Heatmap – macro F1\n",
    "pivot = RESULT.pivot(index=\"dataset\", columns=\"sampler\", values=\"macro_f1\")\n",
    "plt.figure(figsize=(6, 4))\n",
    "sns.heatmap(pivot, annot=True, fmt=\".3f\", cmap=\"YlGnBu\")\n",
    "plt.title(\"Macro F1-score across datasets & sampling strategies\")\n",
    "plt.tight_layout()"
   ]
  },
  {
   "cell_type": "markdown",
   "id": "6e635b1d",
   "metadata": {},
   "source": [
    "## Bar-plot for each dataset"
   ]
  },
  {
   "cell_type": "code",
   "execution_count": 6,
   "id": "46309ab9",
   "metadata": {},
   "outputs": [
    {
     "data": {
      "image/png": "[encoded data removed]",
      "text/plain": [
       "<Figure size 1260x350 with 1 Axes>"
      ]
     },
     "metadata": {},
     "output_type": "display_data"
    }
   ],
   "source": [
    "g = sns.catplot(\n",
    "    data=RESULT, kind=\"bar\",\n",
    "    x=\"sampler\", y=\"macro_f1\", col=\"dataset\",\n",
    "    height=3.5, aspect=1.2, col_wrap=3, palette=\"Set2\"\n",
    ")\n",
    "g.set_titles(\"{col_name}\")\n",
    "g.set_axis_labels(\"Sampling method\", \"Macro F1\")\n",
    "plt.tight_layout()"
   ]
  },
  {
   "cell_type": "markdown",
   "id": "7d34a27f",
   "metadata": {},
   "source": [
    "## Step-10 – Export artefacts"
   ]
  },
  {
   "cell_type": "code",
   "execution_count": 7,
   "id": "00cd2e91",
   "metadata": {},
   "outputs": [
    {
     "name": "stdout",
     "output_type": "stream",
     "text": [
      "✅ All artefacts saved to /home/omarf/Downloads/Documents/papers/Perovskite ML papers/A_Multi_class_Dataset_Comparison/output\n"
     ]
    }
   ],
   "source": [
    "OUT_DIR = pathlib.Path(\"output\")\n",
    "OUT_DIR.mkdir(exist_ok=True)\n",
    "\n",
    "# CSV\n",
    "RESULT.to_csv(OUT_DIR/\"benchmark_results.csv\", index=False)\n",
    "\n",
    "# Plots to PDF\n",
    "from matplotlib.backends.backend_pdf import PdfPages\n",
    "with PdfPages(OUT_DIR/\"benchmark_plots.pdf\") as pdf:\n",
    "    # heatmap\n",
    "    plt.figure(figsize=(6, 4))\n",
    "    sns.heatmap(pivot, annot=True, fmt=\".3f\", cmap=\"YlGnBu\")\n",
    "    plt.title(\"Macro F1-score across datasets & sampling strategies\")\n",
    "    pdf.savefig(); plt.close()\n",
    "    \n",
    "    # bar-plots\n",
    "    g = sns.catplot(\n",
    "        data=RESULT, kind=\"bar\",\n",
    "        x=\"sampler\", y=\"macro_f1\", col=\"dataset\",\n",
    "        height=3.5, aspect=1.2, col_wrap=3, palette=\"Set2\"\n",
    "    )\n",
    "    g.set_titles(\"{col_name}\")\n",
    "    g.set_axis_labels(\"Sampling method\", \"Macro F1\")\n",
    "    plt.tight_layout()\n",
    "    pdf.savefig(); plt.close()\n",
    "\n",
    "print(\"✅ All artefacts saved to\", OUT_DIR.resolve())"
   ]
  },
  {
   "cell_type": "markdown",
   "id": "faad2e49",
   "metadata": {},
   "source": [
    "### End of notebook – you can now:\n",
    "1. Drop any CSV (with multi-class target in the last column) into the `datasets/` folder  \n",
    "2. Re-run all cells to obtain an updated benchmark report  \n",
    "3. Inspect `output/benchmark_results.csv` and `output/benchmark_plots.pdf`  "
   ]
  }
 ],
 "metadata": {
  "kernelspec": {
   "display_name": ".venv",
   "language": "python",
   "name": "python3"
  },
  "language_info": {
   "codemirror_mode": {
    "name": "ipython",
    "version": 3
   },
   "file_extension": ".py",
   "mimetype": "text/x-python",
   "name": "python",
   "nbconvert_exporter": "python",
   "pygments_lexer": "ipython3",
   "version": "3.12.4"
  }
 },
 "nbformat": 4,
 "nbformat_minor": 5
}
